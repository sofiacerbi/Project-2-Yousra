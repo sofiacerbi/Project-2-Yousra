{
 "cells": [
  {
   "cell_type": "markdown",
   "metadata": {},
   "source": [
    "# Problems 9 - Information Retrieval and Recommender Systems"
   ]
  },
  {
   "cell_type": "markdown",
   "metadata": {},
   "source": [
    "## 9.1 Information Retrieval - an online shop"
   ]
  },
  {
   "cell_type": "markdown",
   "metadata": {},
   "source": [
    "Your online shop, sells 80 different products. You recently contracted a company to implement a \"search\" functionality for your shop. The company has just delivered their new retrieval system, and you are now testing it out.\n",
    "\n",
    "You try the system, with a specific query, and the system displays the 10 products with the following IDs on the first page:"
   ]
  },
  {
   "cell_type": "code",
   "execution_count": 1,
   "metadata": {},
   "outputs": [],
   "source": [
    "import numpy as np\n",
    "\n",
    "result = np.array([ 2, 20, 36, 41, 44,  6, 71, 79, 78,  9])"
   ]
  },
  {
   "cell_type": "markdown",
   "metadata": {},
   "source": [
    "You know that for the query you tried out, the relevant products are the ones with ids:"
   ]
  },
  {
   "cell_type": "code",
   "execution_count": 2,
   "metadata": {},
   "outputs": [],
   "source": [
    "relevant_idx = np.array([ 2,  3,  5,  9, 14, 20, 36, 38, 39, 44, 48, 54, 58, 71, 75, 77, 78])"
   ]
  },
  {
   "cell_type": "markdown",
   "metadata": {},
   "source": [
    "<font color=blue> How many relevant items did the system return? </font>"
   ]
  },
  {
   "cell_type": "code",
   "execution_count": 3,
   "metadata": {},
   "outputs": [],
   "source": [
    "# YOUR CODE HERE\n"
   ]
  },
  {
   "cell_type": "code",
   "execution_count": 4,
   "metadata": {},
   "outputs": [
    {
     "name": "stdout",
     "output_type": "stream",
     "text": [
      "7\n",
      "7\n",
      "[True, True, True, False, True, False, True, False, True, True]\n",
      "7\n"
     ]
    }
   ],
   "source": [
    "# SOLUTION\n",
    "\n",
    "# To count the relevant items we need to count the number of relevant products that appear in the result, or alternatively, the number of result products that are relevant\n",
    "\n",
    "# One way to do it (counting the relevant products that appear in the result) would be\n",
    "ret_rel = 0\n",
    "for r in relevant_idx:\n",
    "    if r in result: ret_rel += 1\n",
    "\n",
    "print(ret_rel)\n",
    "        \n",
    "# A more \"pythonic\" way to do this, would be using list comprehension. For example:\n",
    "ret_rel = sum([1 for r in relevant_idx if r in result])\n",
    "\n",
    "print(ret_rel)\n",
    "\n",
    "# An even better way would be to calculate the boolean result and then sum how many (TRUE) values we have\n",
    "bool_ret = [product in relevant_idx for product in result]\n",
    "print(bool_ret)\n",
    "ret_rel = sum(bool_ret)\n",
    "\n",
    "print(ret_rel)"
   ]
  },
  {
   "cell_type": "markdown",
   "metadata": {},
   "source": [
    "</br>\n",
    "\n",
    "<font color=blue> What is the Precision, Recall and F1-score values for the above query? </font>\n",
    "\n",
    "Remember:\n",
    "\n",
    "$P = \\frac{\\lvert ret \\cap rel \\rvert}{ret}$\n",
    "\n",
    "$R = \\frac{\\lvert ret \\cap rel \\rvert}{rel}$\n",
    "\n",
    "$F = \\frac{2 P R}{P + R}$"
   ]
  },
  {
   "cell_type": "code",
   "execution_count": 5,
   "metadata": {},
   "outputs": [],
   "source": [
    "# YOUR CODE HERE\n"
   ]
  },
  {
   "cell_type": "code",
   "execution_count": 6,
   "metadata": {},
   "outputs": [
    {
     "name": "stdout",
     "output_type": "stream",
     "text": [
      "Precision:  0.7\n",
      "Recall:  0.4117647058823529\n",
      "F1 score: 0.5185185185185185\n"
     ]
    }
   ],
   "source": [
    "# SOLUTION\n",
    "\n",
    "ret = len(result) # The number of returned items\n",
    "rel = len(relevant_idx) # The number of relevant items in the database\n",
    "\n",
    "P = float(ret_rel) / ret\n",
    "R = float(ret_rel) / rel\n",
    "F = 2*P*R/(P+R)\n",
    "\n",
    "print(\"Precision: \", P)\n",
    "print(\"Recall: \", R)\n",
    "print(\"F1 score:\", F)"
   ]
  },
  {
   "cell_type": "markdown",
   "metadata": {},
   "source": [
    "The retrieval system only displays the ten best products on the first page, but internally it has scored all the products in the database against the query. For the same query as before, the scores for all 80 products that the system has calculated are given in the list below. The higher the number, the better it matches the query."
   ]
  },
  {
   "cell_type": "code",
   "execution_count": 7,
   "metadata": {},
   "outputs": [],
   "source": [
    "scores = np.array([76.25960904, 37.2712716 , 97.43522538, 85.2135435 , 38.42166524,\n",
    "       59.33358171, 90.84382517, 34.59173848, 53.24126568, 87.80759099,\n",
    "       71.13477237, 52.24501123, 53.84857359, 72.34145019, 82.60724712,\n",
    "       60.13854056, 50.02218001, 67.69020948, 49.20740763, 48.19740307,\n",
    "       97.26734714, 33.43817817, 46.61489   , 45.70630798, 12.03883746,\n",
    "       43.71217679, 66.03930779, 76.31438734, 10.98192963, 29.80459484,\n",
    "       14.7397168 , 21.48280983, 39.81730095, 28.18530124, 36.35538331,\n",
    "       55.10834932, 95.5515258 , 13.10765296, 86.70784949, 81.82826684,\n",
    "       55.79913761, 94.58702549, 79.3577133 , 72.84811652, 92.9954021 ,\n",
    "       78.36304059, 62.00806942, 16.43752292, 83.44531762, 82.46218716,\n",
    "       10.26819206, 64.56747866, 61.1888231 , 11.73771   , 36.15240615,\n",
    "       63.08775437, 18.5772151 , 15.75830887, 40.75549881, 68.84171716,\n",
    "       16.72596633, 57.49016213, 51.46845883, 23.56191592, 43.31518323,\n",
    "       74.93840142, 25.68485212, 26.20211702, 27.50582533, 63.53842237,\n",
    "       28.30218436, 89.65913426, 31.90662515, 41.68472171, 69.13468994,\n",
    "       36.35852244, 19.61632789, 79.82716108, 88.39815675, 88.55666924])"
   ]
  },
  {
   "cell_type": "markdown",
   "metadata": {},
   "source": [
    "</br>\n",
    "\n",
    "<font color=blue> Can you calculate the Precision and Recall if you displayed 20 or 40 products on the first page? </font>\n",
    "\n",
    "> Note 1: This is what we would call P@20, R@20, P@40, R@40.\n",
    "\n",
    "> Note 2: Have a look at the Numpy function `argsort()` to solve this problem  ( https://numpy.org/doc/1.18/reference/generated/numpy.argsort.html )."
   ]
  },
  {
   "cell_type": "code",
   "execution_count": 8,
   "metadata": {},
   "outputs": [],
   "source": [
    "# YOUR CODE HERE\n"
   ]
  },
  {
   "cell_type": "code",
   "execution_count": 9,
   "metadata": {
    "scrolled": true
   },
   "outputs": [
    {
     "name": "stdout",
     "output_type": "stream",
     "text": [
      "max. value: 97.43522538\n",
      "max. value index: (array([2], dtype=int64),)\n",
      "min. value: 10.26819206\n",
      "min. value index: (array([50], dtype=int64),)\n",
      "\n",
      "Our sorted indices:\n",
      "[ 2 20 36 41 44  6 71 79 78  9 38  3 48 14 49 39 77 42 45 27  0 65 43 13\n",
      " 10 74 59 17 26 51 69 55 46 52 15  5 61 40 35 12  8 11 62 16 18 19 22 23\n",
      " 25 64 73 58 32  4  1 75 34 54  7 21 72 29 70 33 68 67 66 63 31 76 56 60\n",
      " 47 57 30 37 24 53 28 50]\n",
      "\n",
      "Just to double check, if we use these indices on the scores array, values should be correctly sorted:\n",
      "[97.43522538 97.26734714 95.5515258  94.58702549 92.9954021  90.84382517\n",
      " 89.65913426 88.55666924 88.39815675 87.80759099 86.70784949 85.2135435\n",
      " 83.44531762 82.60724712 82.46218716 81.82826684 79.82716108 79.3577133\n",
      " 78.36304059 76.31438734 76.25960904 74.93840142 72.84811652 72.34145019\n",
      " 71.13477237 69.13468994 68.84171716 67.69020948 66.03930779 64.56747866\n",
      " 63.53842237 63.08775437 62.00806942 61.1888231  60.13854056 59.33358171\n",
      " 57.49016213 55.79913761 55.10834932 53.84857359 53.24126568 52.24501123\n",
      " 51.46845883 50.02218001 49.20740763 48.19740307 46.61489    45.70630798\n",
      " 43.71217679 43.31518323 41.68472171 40.75549881 39.81730095 38.42166524\n",
      " 37.2712716  36.35852244 36.35538331 36.15240615 34.59173848 33.43817817\n",
      " 31.90662515 29.80459484 28.30218436 28.18530124 27.50582533 26.20211702\n",
      " 25.68485212 23.56191592 21.48280983 19.61632789 18.5772151  16.72596633\n",
      " 16.43752292 15.75830887 14.7397168  13.10765296 12.03883746 11.73771\n",
      " 10.98192963 10.26819206]\n"
     ]
    }
   ],
   "source": [
    "# SOLUTION\n",
    "\n",
    "# First, we need to order the products according to the scores we have calculated.\n",
    "# But we are not interested in ordering the values, but in ordering the indices, according to their values!\n",
    "# Therefore we will use the argsort() function\n",
    "# Now, if we sort based on the scores, it will return to us the smaller values first. We want to sort the other way around, so instead of sorting (scores), we can sort (-scores)\n",
    "\n",
    "# to find out which are the indexes of the max and min values. Useful to check that the indexes are correctly sorted.\n",
    "print(\"max. value: {}\".format(max(scores)))\n",
    "print(\"max. value index: {}\".format(np.where(scores == max(scores))))\n",
    "print(\"min. value: {}\".format(min(scores)))\n",
    "print(\"min. value index: {}\".format(np.where(scores == min(scores))))\n",
    "\n",
    "sorted_idx = np.argsort(-scores)\n",
    "\n",
    "print(\"\\nOur sorted indices:\")\n",
    "print(sorted_idx)\n",
    "\n",
    "print(\"\\nJust to double check, if we use these indices on the scores array, values should be correctly sorted:\")\n",
    "print(scores[sorted_idx])"
   ]
  },
  {
   "cell_type": "code",
   "execution_count": 10,
   "metadata": {},
   "outputs": [
    {
     "name": "stdout",
     "output_type": "stream",
     "text": [
      "P @ 20:  0.65\n",
      "R @ 20:  0.7647058823529411\n",
      "F1 @ 20: 0.7027027027027027\n"
     ]
    }
   ],
   "source": [
    "# SOLUTION (cont)\n",
    "\n",
    "# Now it easy to calculate precision and recall at any given cut off point. For example, P@20 and R@20 would be as follows:\n",
    "result_at_20 = sorted_idx[:20]\n",
    "ret_rel = np.sum([product in relevant_idx for product in result_at_20])\n",
    "\n",
    "ret = len(result_at_20) # The number of returned items which should be == 20\n",
    "rel = len(relevant_idx) # The number of relevant items in the database\n",
    "\n",
    "P = float(ret_rel) / ret\n",
    "R = float(ret_rel) / rel\n",
    "F = 2*P*R/(P+R)\n",
    "\n",
    "print(\"P @ 20: \", P)\n",
    "print(\"R @ 20: \", R)\n",
    "print(\"F1 @ 20:\", F)"
   ]
  },
  {
   "cell_type": "code",
   "execution_count": 11,
   "metadata": {},
   "outputs": [
    {
     "name": "stdout",
     "output_type": "stream",
     "text": [
      "P @ 40:  0.35\n",
      "R @ 40:  0.8235294117647058\n",
      "F1 @ 40: 0.4912280701754386\n"
     ]
    }
   ],
   "source": [
    "# SOLUTION (cont)\n",
    "\n",
    "# Same for P and R @40\n",
    "ret_rel = np.sum([product in relevant_idx for product in sorted_idx[:40]])\n",
    "P = float(ret_rel) / 40\n",
    "R = float(ret_rel) / rel\n",
    "\n",
    "print(\"P @ 40: \", P)\n",
    "print(\"R @ 40: \", R)\n",
    "print(\"F1 @ 40:\", 2*P*R/(P+R))"
   ]
  },
  {
   "cell_type": "markdown",
   "metadata": {},
   "source": [
    "</br>\n",
    "\n",
    "<font color=blue> In order to get an overall idea about how good the retrieval is, draw the Precision/Recall plot </font>"
   ]
  },
  {
   "cell_type": "code",
   "execution_count": 12,
   "metadata": {},
   "outputs": [],
   "source": [
    "# YOUR CODE HERE\n"
   ]
  },
  {
   "cell_type": "code",
   "execution_count": 13,
   "metadata": {},
   "outputs": [
    {
     "name": "stdout",
     "output_type": "stream",
     "text": [
      "[True, True, True, False, True, False, True, False, True, True, True, True, True, True, False, True, True, False, False, False, False, False, False, False, False, False, False, False, False, False, False, False, False, False, False, True, False, False, False, False, False, False, False, False, False, False, False, False, False, False, False, True, False, False, False, True, False, True, False, False, False, False, False, False, False, False, False, False, False, False, False, False, False, False, False, False, False, False, False, False]\n",
      "k: 0, \tprec: 1.00, \trec: 0.06\n",
      "k: 1, \tprec: 1.00, \trec: 0.12\n",
      "k: 2, \tprec: 1.00, \trec: 0.18\n",
      "k: 3, \tprec: 0.75, \trec: 0.18\n",
      "k: 4, \tprec: 0.80, \trec: 0.24\n",
      "k: 5, \tprec: 0.67, \trec: 0.24\n",
      "k: 6, \tprec: 0.71, \trec: 0.29\n",
      "k: 7, \tprec: 0.62, \trec: 0.29\n",
      "k: 8, \tprec: 0.67, \trec: 0.35\n",
      "k: 9, \tprec: 0.70, \trec: 0.41\n",
      "k: 10, \tprec: 0.73, \trec: 0.47\n",
      "k: 11, \tprec: 0.75, \trec: 0.53\n",
      "k: 12, \tprec: 0.77, \trec: 0.59\n",
      "k: 13, \tprec: 0.79, \trec: 0.65\n",
      "k: 14, \tprec: 0.73, \trec: 0.65\n",
      "k: 15, \tprec: 0.75, \trec: 0.71\n",
      "k: 16, \tprec: 0.76, \trec: 0.76\n",
      "k: 17, \tprec: 0.72, \trec: 0.76\n",
      "k: 18, \tprec: 0.68, \trec: 0.76\n",
      "k: 19, \tprec: 0.65, \trec: 0.76\n",
      "k: 20, \tprec: 0.62, \trec: 0.76\n",
      "k: 21, \tprec: 0.59, \trec: 0.76\n",
      "k: 22, \tprec: 0.57, \trec: 0.76\n",
      "k: 23, \tprec: 0.54, \trec: 0.76\n",
      "k: 24, \tprec: 0.52, \trec: 0.76\n",
      "k: 25, \tprec: 0.50, \trec: 0.76\n",
      "k: 26, \tprec: 0.48, \trec: 0.76\n",
      "k: 27, \tprec: 0.46, \trec: 0.76\n",
      "k: 28, \tprec: 0.45, \trec: 0.76\n",
      "k: 29, \tprec: 0.43, \trec: 0.76\n",
      "k: 30, \tprec: 0.42, \trec: 0.76\n",
      "k: 31, \tprec: 0.41, \trec: 0.76\n",
      "k: 32, \tprec: 0.39, \trec: 0.76\n",
      "k: 33, \tprec: 0.38, \trec: 0.76\n",
      "k: 34, \tprec: 0.37, \trec: 0.76\n",
      "k: 35, \tprec: 0.39, \trec: 0.82\n",
      "k: 36, \tprec: 0.38, \trec: 0.82\n",
      "k: 37, \tprec: 0.37, \trec: 0.82\n",
      "k: 38, \tprec: 0.36, \trec: 0.82\n",
      "k: 39, \tprec: 0.35, \trec: 0.82\n",
      "k: 40, \tprec: 0.34, \trec: 0.82\n",
      "k: 41, \tprec: 0.33, \trec: 0.82\n",
      "k: 42, \tprec: 0.33, \trec: 0.82\n",
      "k: 43, \tprec: 0.32, \trec: 0.82\n",
      "k: 44, \tprec: 0.31, \trec: 0.82\n",
      "k: 45, \tprec: 0.30, \trec: 0.82\n",
      "k: 46, \tprec: 0.30, \trec: 0.82\n",
      "k: 47, \tprec: 0.29, \trec: 0.82\n",
      "k: 48, \tprec: 0.29, \trec: 0.82\n",
      "k: 49, \tprec: 0.28, \trec: 0.82\n",
      "k: 50, \tprec: 0.27, \trec: 0.82\n",
      "k: 51, \tprec: 0.29, \trec: 0.88\n",
      "k: 52, \tprec: 0.28, \trec: 0.88\n",
      "k: 53, \tprec: 0.28, \trec: 0.88\n",
      "k: 54, \tprec: 0.27, \trec: 0.88\n",
      "k: 55, \tprec: 0.29, \trec: 0.94\n",
      "k: 56, \tprec: 0.28, \trec: 0.94\n",
      "k: 57, \tprec: 0.29, \trec: 1.00\n",
      "k: 58, \tprec: 0.29, \trec: 1.00\n",
      "k: 59, \tprec: 0.28, \trec: 1.00\n",
      "k: 60, \tprec: 0.28, \trec: 1.00\n",
      "k: 61, \tprec: 0.27, \trec: 1.00\n",
      "k: 62, \tprec: 0.27, \trec: 1.00\n",
      "k: 63, \tprec: 0.27, \trec: 1.00\n",
      "k: 64, \tprec: 0.26, \trec: 1.00\n",
      "k: 65, \tprec: 0.26, \trec: 1.00\n",
      "k: 66, \tprec: 0.25, \trec: 1.00\n",
      "k: 67, \tprec: 0.25, \trec: 1.00\n",
      "k: 68, \tprec: 0.25, \trec: 1.00\n",
      "k: 69, \tprec: 0.24, \trec: 1.00\n",
      "k: 70, \tprec: 0.24, \trec: 1.00\n",
      "k: 71, \tprec: 0.24, \trec: 1.00\n",
      "k: 72, \tprec: 0.23, \trec: 1.00\n",
      "k: 73, \tprec: 0.23, \trec: 1.00\n",
      "k: 74, \tprec: 0.23, \trec: 1.00\n",
      "k: 75, \tprec: 0.22, \trec: 1.00\n",
      "k: 76, \tprec: 0.22, \trec: 1.00\n",
      "k: 77, \tprec: 0.22, \trec: 1.00\n",
      "k: 78, \tprec: 0.22, \trec: 1.00\n",
      "k: 79, \tprec: 0.21, \trec: 1.00\n"
     ]
    },
    {
     "data": {
      "image/png": "[encoded data removed]",
      "text/plain": [
       "<Figure size 432x288 with 1 Axes>"
      ]
     },
     "metadata": {
      "needs_background": "light"
     },
     "output_type": "display_data"
    }
   ],
   "source": [
    "# SOLUTION #\n",
    "\n",
    "P = np.zeros(len(scores))\n",
    "R = np.zeros(len(scores))\n",
    "\n",
    "rel = len(relevant_idx)\n",
    "boolean_result = [product in relevant_idx for product in sorted_idx]\n",
    "\n",
    "print(boolean_result)\n",
    "\n",
    "for k in range(len(scores)): \n",
    "    ret = k+1 # NOTE THAT WE USE ZERO-INDEXED LISTS\n",
    "    ret_rel = np.sum(boolean_result[:ret])\n",
    "    P[k] = float(ret_rel) / ret\n",
    "    R[k] = float(ret_rel) / rel\n",
    "    print(\"k: {}, \\tprec: {:.2f}, \\trec: {:.2f}\".format(k, P[k], R[k]))\n",
    "    \n",
    "# Precision Recall plot\n",
    "import matplotlib.pyplot as plt\n",
    "\n",
    "plt.plot(R, P)\n",
    "plt.xlabel('Recall')\n",
    "plt.ylabel('Precision')\n",
    "plt.show()"
   ]
  },
  {
   "cell_type": "markdown",
   "metadata": {},
   "source": [
    "</br>\n",
    "\n",
    "<font color=blue> Now calculate the Average Precision value. </font>\n",
    "\n",
    "<i> Remember: </i>\n",
    "\n",
    "$AP = \\displaystyle\\sum_{k=1}^{N} P(k) \\Delta R(k)$\n",
    "\n",
    "or\n",
    "\n",
    "$AP = \\displaystyle \\frac{\\sum_{k=1}^{N} P(k) rel(k)}{|rel|}$"
   ]
  },
  {
   "cell_type": "code",
   "execution_count": 14,
   "metadata": {},
   "outputs": [],
   "source": [
    "# YOUR CODE HERE\n"
   ]
  },
  {
   "cell_type": "code",
   "execution_count": 15,
   "metadata": {},
   "outputs": [
    {
     "name": "stdout",
     "output_type": "stream",
     "text": [
      "Average Precision: 0.6872967180508048\n"
     ]
    }
   ],
   "source": [
    "# SOLUTION\n",
    "\n",
    "AP = 0\n",
    "\n",
    "for k in range(len(scores)):\n",
    "    if boolean_result[k]:\n",
    "        AP = AP + P[k]/rel\n",
    "\n",
    "print(\"Average Precision: {0}\".format(AP))"
   ]
  },
  {
   "cell_type": "markdown",
   "metadata": {},
   "source": [
    "## 9.3 Recommender Systems"
   ]
  },
  {
   "cell_type": "markdown",
   "metadata": {},
   "source": [
    "You are working on a movie recommendation system, and you have been given the following ratings table.\n",
    "\n",
    "Each row corresponds to a user, and each column to a movie. Ratings are between 1 and 5 stars, while a rating equal to `None` (NaN) means that the user has not rated that particular movie."
   ]
  },
  {
   "cell_type": "code",
   "execution_count": 16,
   "metadata": {},
   "outputs": [],
   "source": [
    "import pandas as pd"
   ]
  },
  {
   "cell_type": "code",
   "execution_count": 17,
   "metadata": {},
   "outputs": [
    {
     "ename": "FileNotFoundError",
     "evalue": "[Errno 2] No such file or directory: 'ratings.csv'",
     "output_type": "error",
     "traceback": [
      "\u001b[1;31m---------------------------------------------------------------------------\u001b[0m",
      "\u001b[1;31mFileNotFoundError\u001b[0m                         Traceback (most recent call last)",
      "\u001b[1;32m<ipython-input-17-e7ef9de1889d>\u001b[0m in \u001b[0;36m<module>\u001b[1;34m\u001b[0m\n\u001b[1;32m----> 1\u001b[1;33m \u001b[0mratings\u001b[0m \u001b[1;33m=\u001b[0m \u001b[0mpd\u001b[0m\u001b[1;33m.\u001b[0m\u001b[0mread_csv\u001b[0m\u001b[1;33m(\u001b[0m\u001b[1;34m\"ratings.csv\"\u001b[0m\u001b[1;33m,\u001b[0m \u001b[0mindex_col\u001b[0m \u001b[1;33m=\u001b[0m \u001b[1;36m0\u001b[0m\u001b[1;33m)\u001b[0m\u001b[1;33m\u001b[0m\u001b[1;33m\u001b[0m\u001b[0m\n\u001b[0m\u001b[0;32m      2\u001b[0m \u001b[0mratings\u001b[0m\u001b[1;33m\u001b[0m\u001b[1;33m\u001b[0m\u001b[0m\n",
      "\u001b[1;32mc:\\users\\sofia\\appdata\\local\\programs\\python\\python39\\lib\\site-packages\\pandas\\io\\parsers.py\u001b[0m in \u001b[0;36mread_csv\u001b[1;34m(filepath_or_buffer, sep, delimiter, header, names, index_col, usecols, squeeze, prefix, mangle_dupe_cols, dtype, engine, converters, true_values, false_values, skipinitialspace, skiprows, skipfooter, nrows, na_values, keep_default_na, na_filter, verbose, skip_blank_lines, parse_dates, infer_datetime_format, keep_date_col, date_parser, dayfirst, cache_dates, iterator, chunksize, compression, thousands, decimal, lineterminator, quotechar, quoting, doublequote, escapechar, comment, encoding, dialect, error_bad_lines, warn_bad_lines, delim_whitespace, low_memory, memory_map, float_precision, storage_options)\u001b[0m\n\u001b[0;32m    608\u001b[0m     \u001b[0mkwds\u001b[0m\u001b[1;33m.\u001b[0m\u001b[0mupdate\u001b[0m\u001b[1;33m(\u001b[0m\u001b[0mkwds_defaults\u001b[0m\u001b[1;33m)\u001b[0m\u001b[1;33m\u001b[0m\u001b[1;33m\u001b[0m\u001b[0m\n\u001b[0;32m    609\u001b[0m \u001b[1;33m\u001b[0m\u001b[0m\n\u001b[1;32m--> 610\u001b[1;33m     \u001b[1;32mreturn\u001b[0m \u001b[0m_read\u001b[0m\u001b[1;33m(\u001b[0m\u001b[0mfilepath_or_buffer\u001b[0m\u001b[1;33m,\u001b[0m \u001b[0mkwds\u001b[0m\u001b[1;33m)\u001b[0m\u001b[1;33m\u001b[0m\u001b[1;33m\u001b[0m\u001b[0m\n\u001b[0m\u001b[0;32m    611\u001b[0m \u001b[1;33m\u001b[0m\u001b[0m\n\u001b[0;32m    612\u001b[0m \u001b[1;33m\u001b[0m\u001b[0m\n",
      "\u001b[1;32mc:\\users\\sofia\\appdata\\local\\programs\\python\\python39\\lib\\site-packages\\pandas\\io\\parsers.py\u001b[0m in \u001b[0;36m_read\u001b[1;34m(filepath_or_buffer, kwds)\u001b[0m\n\u001b[0;32m    460\u001b[0m \u001b[1;33m\u001b[0m\u001b[0m\n\u001b[0;32m    461\u001b[0m     \u001b[1;31m# Create the parser.\u001b[0m\u001b[1;33m\u001b[0m\u001b[1;33m\u001b[0m\u001b[1;33m\u001b[0m\u001b[0m\n\u001b[1;32m--> 462\u001b[1;33m     \u001b[0mparser\u001b[0m \u001b[1;33m=\u001b[0m \u001b[0mTextFileReader\u001b[0m\u001b[1;33m(\u001b[0m\u001b[0mfilepath_or_buffer\u001b[0m\u001b[1;33m,\u001b[0m \u001b[1;33m**\u001b[0m\u001b[0mkwds\u001b[0m\u001b[1;33m)\u001b[0m\u001b[1;33m\u001b[0m\u001b[1;33m\u001b[0m\u001b[0m\n\u001b[0m\u001b[0;32m    463\u001b[0m \u001b[1;33m\u001b[0m\u001b[0m\n\u001b[0;32m    464\u001b[0m     \u001b[1;32mif\u001b[0m \u001b[0mchunksize\u001b[0m \u001b[1;32mor\u001b[0m \u001b[0miterator\u001b[0m\u001b[1;33m:\u001b[0m\u001b[1;33m\u001b[0m\u001b[1;33m\u001b[0m\u001b[0m\n",
      "\u001b[1;32mc:\\users\\sofia\\appdata\\local\\programs\\python\\python39\\lib\\site-packages\\pandas\\io\\parsers.py\u001b[0m in \u001b[0;36m__init__\u001b[1;34m(self, f, engine, **kwds)\u001b[0m\n\u001b[0;32m    817\u001b[0m             \u001b[0mself\u001b[0m\u001b[1;33m.\u001b[0m\u001b[0moptions\u001b[0m\u001b[1;33m[\u001b[0m\u001b[1;34m\"has_index_names\"\u001b[0m\u001b[1;33m]\u001b[0m \u001b[1;33m=\u001b[0m \u001b[0mkwds\u001b[0m\u001b[1;33m[\u001b[0m\u001b[1;34m\"has_index_names\"\u001b[0m\u001b[1;33m]\u001b[0m\u001b[1;33m\u001b[0m\u001b[1;33m\u001b[0m\u001b[0m\n\u001b[0;32m    818\u001b[0m \u001b[1;33m\u001b[0m\u001b[0m\n\u001b[1;32m--> 819\u001b[1;33m         \u001b[0mself\u001b[0m\u001b[1;33m.\u001b[0m\u001b[0m_engine\u001b[0m \u001b[1;33m=\u001b[0m \u001b[0mself\u001b[0m\u001b[1;33m.\u001b[0m\u001b[0m_make_engine\u001b[0m\u001b[1;33m(\u001b[0m\u001b[0mself\u001b[0m\u001b[1;33m.\u001b[0m\u001b[0mengine\u001b[0m\u001b[1;33m)\u001b[0m\u001b[1;33m\u001b[0m\u001b[1;33m\u001b[0m\u001b[0m\n\u001b[0m\u001b[0;32m    820\u001b[0m \u001b[1;33m\u001b[0m\u001b[0m\n\u001b[0;32m    821\u001b[0m     \u001b[1;32mdef\u001b[0m \u001b[0mclose\u001b[0m\u001b[1;33m(\u001b[0m\u001b[0mself\u001b[0m\u001b[1;33m)\u001b[0m\u001b[1;33m:\u001b[0m\u001b[1;33m\u001b[0m\u001b[1;33m\u001b[0m\u001b[0m\n",
      "\u001b[1;32mc:\\users\\sofia\\appdata\\local\\programs\\python\\python39\\lib\\site-packages\\pandas\\io\\parsers.py\u001b[0m in \u001b[0;36m_make_engine\u001b[1;34m(self, engine)\u001b[0m\n\u001b[0;32m   1048\u001b[0m             )\n\u001b[0;32m   1049\u001b[0m         \u001b[1;31m# error: Too many arguments for \"ParserBase\"\u001b[0m\u001b[1;33m\u001b[0m\u001b[1;33m\u001b[0m\u001b[1;33m\u001b[0m\u001b[0m\n\u001b[1;32m-> 1050\u001b[1;33m         \u001b[1;32mreturn\u001b[0m \u001b[0mmapping\u001b[0m\u001b[1;33m[\u001b[0m\u001b[0mengine\u001b[0m\u001b[1;33m]\u001b[0m\u001b[1;33m(\u001b[0m\u001b[0mself\u001b[0m\u001b[1;33m.\u001b[0m\u001b[0mf\u001b[0m\u001b[1;33m,\u001b[0m \u001b[1;33m**\u001b[0m\u001b[0mself\u001b[0m\u001b[1;33m.\u001b[0m\u001b[0moptions\u001b[0m\u001b[1;33m)\u001b[0m  \u001b[1;31m# type: ignore[call-arg]\u001b[0m\u001b[1;33m\u001b[0m\u001b[1;33m\u001b[0m\u001b[0m\n\u001b[0m\u001b[0;32m   1051\u001b[0m \u001b[1;33m\u001b[0m\u001b[0m\n\u001b[0;32m   1052\u001b[0m     \u001b[1;32mdef\u001b[0m \u001b[0m_failover_to_python\u001b[0m\u001b[1;33m(\u001b[0m\u001b[0mself\u001b[0m\u001b[1;33m)\u001b[0m\u001b[1;33m:\u001b[0m\u001b[1;33m\u001b[0m\u001b[1;33m\u001b[0m\u001b[0m\n",
      "\u001b[1;32mc:\\users\\sofia\\appdata\\local\\programs\\python\\python39\\lib\\site-packages\\pandas\\io\\parsers.py\u001b[0m in \u001b[0;36m__init__\u001b[1;34m(self, src, **kwds)\u001b[0m\n\u001b[0;32m   1865\u001b[0m \u001b[1;33m\u001b[0m\u001b[0m\n\u001b[0;32m   1866\u001b[0m         \u001b[1;31m# open handles\u001b[0m\u001b[1;33m\u001b[0m\u001b[1;33m\u001b[0m\u001b[1;33m\u001b[0m\u001b[0m\n\u001b[1;32m-> 1867\u001b[1;33m         \u001b[0mself\u001b[0m\u001b[1;33m.\u001b[0m\u001b[0m_open_handles\u001b[0m\u001b[1;33m(\u001b[0m\u001b[0msrc\u001b[0m\u001b[1;33m,\u001b[0m \u001b[0mkwds\u001b[0m\u001b[1;33m)\u001b[0m\u001b[1;33m\u001b[0m\u001b[1;33m\u001b[0m\u001b[0m\n\u001b[0m\u001b[0;32m   1868\u001b[0m         \u001b[1;32massert\u001b[0m \u001b[0mself\u001b[0m\u001b[1;33m.\u001b[0m\u001b[0mhandles\u001b[0m \u001b[1;32mis\u001b[0m \u001b[1;32mnot\u001b[0m \u001b[1;32mNone\u001b[0m\u001b[1;33m\u001b[0m\u001b[1;33m\u001b[0m\u001b[0m\n\u001b[0;32m   1869\u001b[0m         \u001b[1;32mfor\u001b[0m \u001b[0mkey\u001b[0m \u001b[1;32min\u001b[0m \u001b[1;33m(\u001b[0m\u001b[1;34m\"storage_options\"\u001b[0m\u001b[1;33m,\u001b[0m \u001b[1;34m\"encoding\"\u001b[0m\u001b[1;33m,\u001b[0m \u001b[1;34m\"memory_map\"\u001b[0m\u001b[1;33m,\u001b[0m \u001b[1;34m\"compression\"\u001b[0m\u001b[1;33m)\u001b[0m\u001b[1;33m:\u001b[0m\u001b[1;33m\u001b[0m\u001b[1;33m\u001b[0m\u001b[0m\n",
      "\u001b[1;32mc:\\users\\sofia\\appdata\\local\\programs\\python\\python39\\lib\\site-packages\\pandas\\io\\parsers.py\u001b[0m in \u001b[0;36m_open_handles\u001b[1;34m(self, src, kwds)\u001b[0m\n\u001b[0;32m   1360\u001b[0m         \u001b[0mLet\u001b[0m \u001b[0mthe\u001b[0m \u001b[0mreaders\u001b[0m \u001b[0mopen\u001b[0m \u001b[0mIOHanldes\u001b[0m \u001b[0mafter\u001b[0m \u001b[0mthey\u001b[0m \u001b[0mare\u001b[0m \u001b[0mdone\u001b[0m \u001b[1;32mwith\u001b[0m \u001b[0mtheir\u001b[0m \u001b[0mpotential\u001b[0m \u001b[0mraises\u001b[0m\u001b[1;33m.\u001b[0m\u001b[1;33m\u001b[0m\u001b[1;33m\u001b[0m\u001b[0m\n\u001b[0;32m   1361\u001b[0m         \"\"\"\n\u001b[1;32m-> 1362\u001b[1;33m         self.handles = get_handle(\n\u001b[0m\u001b[0;32m   1363\u001b[0m             \u001b[0msrc\u001b[0m\u001b[1;33m,\u001b[0m\u001b[1;33m\u001b[0m\u001b[1;33m\u001b[0m\u001b[0m\n\u001b[0;32m   1364\u001b[0m             \u001b[1;34m\"r\"\u001b[0m\u001b[1;33m,\u001b[0m\u001b[1;33m\u001b[0m\u001b[1;33m\u001b[0m\u001b[0m\n",
      "\u001b[1;32mc:\\users\\sofia\\appdata\\local\\programs\\python\\python39\\lib\\site-packages\\pandas\\io\\common.py\u001b[0m in \u001b[0;36mget_handle\u001b[1;34m(path_or_buf, mode, encoding, compression, memory_map, is_text, errors, storage_options)\u001b[0m\n\u001b[0;32m    640\u001b[0m                 \u001b[0merrors\u001b[0m \u001b[1;33m=\u001b[0m \u001b[1;34m\"replace\"\u001b[0m\u001b[1;33m\u001b[0m\u001b[1;33m\u001b[0m\u001b[0m\n\u001b[0;32m    641\u001b[0m             \u001b[1;31m# Encoding\u001b[0m\u001b[1;33m\u001b[0m\u001b[1;33m\u001b[0m\u001b[1;33m\u001b[0m\u001b[0m\n\u001b[1;32m--> 642\u001b[1;33m             handle = open(\n\u001b[0m\u001b[0;32m    643\u001b[0m                 \u001b[0mhandle\u001b[0m\u001b[1;33m,\u001b[0m\u001b[1;33m\u001b[0m\u001b[1;33m\u001b[0m\u001b[0m\n\u001b[0;32m    644\u001b[0m                 \u001b[0mioargs\u001b[0m\u001b[1;33m.\u001b[0m\u001b[0mmode\u001b[0m\u001b[1;33m,\u001b[0m\u001b[1;33m\u001b[0m\u001b[1;33m\u001b[0m\u001b[0m\n",
      "\u001b[1;31mFileNotFoundError\u001b[0m: [Errno 2] No such file or directory: 'ratings.csv'"
     ]
    }
   ],
   "source": [
    "ratings = pd.read_csv(\"ratings.csv\", index_col = 0)\n",
    "ratings"
   ]
  },
  {
   "cell_type": "markdown",
   "metadata": {},
   "source": [
    "In addition, you are given the following ratings that another user has made for the same movies."
   ]
  },
  {
   "cell_type": "code",
   "execution_count": null,
   "metadata": {},
   "outputs": [],
   "source": [
    "target = pd.read_csv(\"target.csv\", header = 0, index_col=0, squeeze = True)\n",
    "target"
   ]
  },
  {
   "cell_type": "markdown",
   "metadata": {},
   "source": [
    "You are asked to predict the ratings for the movies that the target user has not seen yet, that is for the movies that have a rating of zero in the target user array."
   ]
  },
  {
   "cell_type": "markdown",
   "metadata": {},
   "source": [
    "First, we will calculate the similarity between the target user and each of the users in our ratings table. We will then use the 3 most similar users to derive recommendations.\n",
    "\n",
    "To calculate similarity between users, we will use the Pearson correlation formula:\n",
    "\n",
    "$sim(a, b) = \\frac{\\sum_{p \\in P} (r_{a,p}-\\hat{r_a}) (r_{b,p}-\\hat{r_b}) }{\\sqrt{\\sum_{p \\in P} (r_{a,p}-\\hat{r_a})^2} \\sqrt{\\sum_{p \\in P} (r_{b,p}-\\hat{r_b})^2} }$\n",
    "\n",
    "where a and b are users, and P is the set of the items for which BOTH users have provided ratings.\n",
    "\n",
    "Luckily, pandas has a function for calculating correlation: `DataFrame.corrwith()`. This will calculate the correlation between the target series and every row of the ratings dataframe if we specify that `axis = 1` (row-wise).\n",
    "\n",
    "> See the docs: https://pandas.pydata.org/pandas-docs/stable/reference/api/pandas.DataFrame.corrwith.html?highlight=corrwith#pandas.DataFrame.corrwith"
   ]
  },
  {
   "cell_type": "code",
   "execution_count": null,
   "metadata": {},
   "outputs": [],
   "source": [
    "similarity = ratings.corrwith(target, axis = 1, method = 'pearson') # This function calculates everything based on common items (e.g. mean of user is calculated based only on the common items with that other user we correlate with)\n",
    "similarity"
   ]
  },
  {
   "cell_type": "markdown",
   "metadata": {},
   "source": [
    "In order to predict accurate preferences, we should only take into account users that have a minimum number of items in common to our target user. This minimum is up to us to define (depends on your data and your application).\n",
    "\n",
    "First, we need to count count how many items each user has in common with our target user.\n",
    "\n",
    "We can calculate this using boolean logic. First we check for which items we have ratings (True) and for which no (False). Then we check for which items we have True in both the ratings data frame AND the target series. Then it is a matter of summing up how many True values we have in every row. This is summarised below, although it would be easier to understand if you do the calculations step by step and print out the result."
   ]
  },
  {
   "cell_type": "code",
   "execution_count": null,
   "metadata": {},
   "outputs": [],
   "source": [
    "# Find how many items do they have in common\n",
    "commonItems = (~ratings.isna()) & (~target.isna())\n",
    "print(commonItems)\n",
    "nCommon = commonItems.sum(axis = 1)\n",
    "nCommon"
   ]
  },
  {
   "cell_type": "markdown",
   "metadata": {},
   "source": [
    "We can now get the indices of the users that have more than 3 items with the target. This should drop User 6 in this case who only has exactly 3 items in common with the target."
   ]
  },
  {
   "cell_type": "code",
   "execution_count": null,
   "metadata": {},
   "outputs": [],
   "source": [
    "minItemsCommon = 3\n",
    "\n",
    "# Get the indices of users with whom we have more than minItemsCommon items in common with the query one\n",
    "idx = nCommon.index[nCommon > minItemsCommon]\n",
    "print (idx)\n",
    "\n",
    "#keep only the users that have more than minItemsCommon with the query\n",
    "similarity = similarity.loc[idx]\n",
    "similarity"
   ]
  },
  {
   "cell_type": "markdown",
   "metadata": {},
   "source": [
    "Now, let's find the 3 most similar users in the remaining ones. We can do that by sorting the similarities series (from smaller to larger) and keeping the last three entries. We can do this using the `sort_values()` function of pandas.\n",
    "\n",
    "> See the documentation here: https://pandas.pydata.org/pandas-docs/stable/reference/api/pandas.DataFrame.sort_values.html"
   ]
  },
  {
   "cell_type": "code",
   "execution_count": null,
   "metadata": {},
   "outputs": [],
   "source": [
    "topN = 3\n",
    "\n",
    "similarity.sort_values(ascending = False, inplace = True)\n",
    "idx = similarity.index[:topN] # get the indices of the top N most similar users\n",
    "idx"
   ]
  },
  {
   "cell_type": "markdown",
   "metadata": {},
   "source": [
    "Now that we have the most similar users, we can use their ratings to derive ratings for the target user. To combine the ratings of the most similar users we will use the formula:\n",
    "\n",
    "$ pred(a, i) = \\hat{r_a} + \\frac{\\sum_{b \\in N} sim(a, b) (r_{b,i} - \\hat{r_b})}{\\sum_{b \\in N} sim(a,b)} $\n",
    "\n",
    "where a and i are the user and item for which we want to predict a rating, and N is the set of similar users we have identified.\n",
    "\n",
    "For example, if we wanted to derive the rating for the Movie 2 (`target[\"Movie 2\"]`), we would combine ratings in the following way:"
   ]
  },
  {
   "cell_type": "code",
   "execution_count": null,
   "metadata": {},
   "outputs": [],
   "source": [
    "m = \"Movie 2\" #The movie we are interested in predicting a rating for\n",
    "\n",
    "# initialise two variables in which we will hold the sums of the nominator and the demoninator of our formula\n",
    "sum_nom = sum_denom = 0 \n",
    "\n",
    "# Loop through the list of similar users\n",
    "for u in idx:\n",
    "    user_ratings = ratings.loc[u] # the row of ratings corresponding to user u\n",
    "    print(\"\\nuser:\", u, \"Similarity: \", similarity[u])\n",
    "    #print(user_ratings)\n",
    "    \n",
    "    # Only use the users that have rated the movie we are interested in\n",
    "    if ~(user_ratings.isna()[m]): \n",
    "        print(\"Has seen the movie:\", m)        \n",
    "        print(\"Gave it a rating of: \", user_ratings[m])        \n",
    "        mu = user_ratings.mean() # Calculate the mean rating of the user, this is based only on movies that have a rating != NaN\n",
    "        print(\"Mean: \", mu)\n",
    "        sum_nom = sum_nom + similarity[u]*(user_ratings[m] - mu) # Nominator\n",
    "        sum_denom = sum_denom + similarity[u] # Denominator\n",
    "    else:\n",
    "        print(\"Has not seen the movie. Ignore.\")\n",
    "\n",
    "if sum_denom != 0: # Check if at least one of the similar users had rated the movie in question, otherwise our denominator would be equal to 0\n",
    "    target[m] = target.mean() + sum_nom / sum_denom\n",
    "    \n",
    "print(\"\\nThe predicted ratings of the target user are: \\n\", target)"
   ]
  },
  {
   "cell_type": "markdown",
   "metadata": {},
   "source": [
    "<font color=blue> Do the same for all the movies that the target user has not rated yet. </font>"
   ]
  },
  {
   "cell_type": "code",
   "execution_count": null,
   "metadata": {},
   "outputs": [],
   "source": [
    "# YOUR CODE HERE\n"
   ]
  },
  {
   "cell_type": "code",
   "execution_count": null,
   "metadata": {},
   "outputs": [],
   "source": [
    "# SOLUTION #\n",
    "\n",
    "# Loop through all the movies\n",
    "for m in ratings:\n",
    "    \n",
    "    # We only care in deriving rankings for movies that currently do not have one\n",
    "    if target.isna()[m]:\n",
    "        # initialise two variables in which we will hold the sums of the nominator and the demoninator of our formula\n",
    "        sum_nom = sum_denom = 0 \n",
    "\n",
    "        # Loop through the list of similar users\n",
    "        for u in idx:\n",
    "            user_ratings = ratings.loc[u] # the row of ratings corresponding to user u\n",
    "\n",
    "            # Only use the users that have rated the movie we are interested in\n",
    "            if ~(user_ratings.isna()[m]): \n",
    "                mu = user_ratings.mean() # Calculate the mean rating of the user, this is based only on movies that have a rating != NaN\n",
    "                sum_nom = sum_nom + similarity[u]*(user_ratings[m] - mu) # Nominator\n",
    "                sum_denom = sum_denom + similarity[u] # Denominator\n",
    "\n",
    "        if sum_denom != 0: # Check if at least one of the similar users had rated the movie in question, otherwise our denominator would be equal to 0\n",
    "            target[m] = target.mean() + sum_nom / sum_denom\n",
    "\n",
    "print(\"\\nThe predicted ratings of the target user are\\n\", target)"
   ]
  },
  {
   "cell_type": "code",
   "execution_count": null,
   "metadata": {},
   "outputs": [],
   "source": []
  }
 ],
 "metadata": {
  "kernelspec": {
   "display_name": "Python 3",
   "language": "python",
   "name": "python3"
  },
  "language_info": {
   "codemirror_mode": {
    "name": "ipython",
    "version": 3
   },
   "file_extension": ".py",
   "mimetype": "text/x-python",
   "name": "python",
   "nbconvert_exporter": "python",
   "pygments_lexer": "ipython3",
   "version": "3.9.1"
  }
 },
 "nbformat": 4,
 "nbformat_minor": 4
}
